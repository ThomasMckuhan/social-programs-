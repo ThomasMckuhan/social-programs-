{
  "nbformat": 4,
  "nbformat_minor": 0,
  "metadata": {
    "colab": {
      "name": "Social Programs Future",
      "provenance": []
    },
    "kernelspec": {
      "name": "python3",
      "display_name": "Python 3"
    },
    "language_info": {
      "name": "python"
    }
  },
  "cells": [
    {
      "cell_type": "markdown",
      "metadata": {
        "id": "cUqwpErDZUrq"
      },
      "source": [
        "##**Steps for US to take when social security and medicare runs out**## \n",
        "\n",
        "Basically, the US made it that MOST, not all (expeception parts B and D of Medicare) are not to be paid by genereal government and only by either an increase in taxes (tax revenue) or decrease in spending on the benefits of the social program. \n",
        "\n",
        "The practical function of the HI trust fund is to permit the continued payment of bills in the event\n",
        "of a temporary financial strain (e.g., lower income or higher costs than expected) without\n",
        "requiring legislative action. As long as the HI trust fund has a balance (i.e., securities are credited\n",
        "to the fund), the Treasury Department is authorized to make payments for Medicare Part A\n",
        "services. If the HI trust fund is not able to pay all current expenses out of current income and\n",
        "accumulated trust fund assets, the HI trust fund is considered to be insolvent.\n",
        "22\n",
        "\n",
        "To date, the HI trust fund has never become insolvent. There are no provisions in the Social\n",
        "Security Act that govern what would happen if insolvency were to occur. For example, the\n",
        "program has no statutory authority to use general revenues to fund Part A services in the event of\n",
        "such a shortfall.In their 2020 report, the Medicare trustees project that the HI trust fund will be exhausted in 2026. \n",
        "\n",
        "\n",
        "At that time, HI would continue to receive payroll tax income from which some benefits\n",
        "could be paid; however, funds would be sufficient to pay for only 90% of Part A expenses. Unless\n",
        "action is taken prior to that date to increase revenues or to decrease expenditures (or some\n",
        "combination of the two), Congress may face a legislative decision regarding whether, and how, to\n",
        "provide for another source of funding (e.g., general revenues) to make up for these deficits. \n",
        "\n",
        "As noted, the 2020 Medicare Trustees Report analysis and projections did not reflect potential\n",
        "effects of the COVID-19 pandemic on the Medicare program, including on estimates of HI\n",
        "insolvency. The report noted that, “given the uncertainty associated with these impacts, the\n",
        "Trustees believe that it is not possible to adjust the estimates accurately at this time.”\n",
        "23 According\n",
        "to the report, in the near term, the pandemic is likely to materially affect the economic,\n",
        "demographic, and health care-specific assumptions on which the report’s projections are based.\n",
        "The impact of the COVID-19 pandemic and its economic repercussions on the solvency of the HI\n",
        "trust fund will depend on a variety of factors potentially affecting both revenues (primarily\n",
        "payroll taxes) and Medicare Part A expenditures over the next several years. As described in more\n",
        "detail below, the impact of the COVID-19 pandemic on HI revenues will depend largely on \n",
        "- Due to the higher expenditures and less tax revenue going into the programs systmem, the projection for the trust fund to run out sooner is more higly probable. \n",
        "\n",
        "**Source**: https://sgp.fas.org/crs/misc/RS20946.pdf"
      ]
    }
  ]
}